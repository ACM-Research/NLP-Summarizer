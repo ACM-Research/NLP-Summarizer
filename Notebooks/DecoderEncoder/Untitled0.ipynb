{
  "nbformat": 4,
  "nbformat_minor": 0,
  "metadata": {
    "colab": {
      "name": "Untitled0.ipynb",
      "provenance": [],
      "collapsed_sections": [],
      "authorship_tag": "ABX9TyP+lmtMvpIzlGEgz7SRYvxG",
      "include_colab_link": true
    },
    "kernelspec": {
      "name": "python3",
      "display_name": "Python 3"
    }
  },
  "cells": [
    {
      "cell_type": "markdown",
      "metadata": {
        "id": "view-in-github",
        "colab_type": "text"
      },
      "source": [
        "<a href=\"https://colab.research.google.com/github/ACM-Research/NLP-Summarizer/blob/master/Notebooks/DecoderEncoder/Untitled0.ipynb\" target=\"_parent\"><img src=\"https://colab.research.google.com/assets/colab-badge.svg\" alt=\"Open In Colab\"/></a>"
      ]
    },
    {
      "cell_type": "code",
      "metadata": {
        "id": "VmcluZlCA-PV",
        "outputId": "d2b34f9c-3e85-4da9-c41e-21226e35ac23",
        "colab": {
          "resources": {
            "http://localhost:8080/nbextensions/google.colab/files.js": {
              "data": "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",
              "ok": true,
              "headers": [
                [
                  "content-type",
                  "application/javascript"
                ]
              ],
              "status": 200,
              "status_text": ""
            }
          },
          "base_uri": "https://localhost:8080/",
          "height": 38
        }
      },
      "source": [
        "from google.colab import files\n",
        "uploaded = files.upload()"
      ],
      "execution_count": null,
      "outputs": [
        {
          "output_type": "display_data",
          "data": {
            "text/html": [
              "\n",
              "     <input type=\"file\" id=\"files-edf340e6-9823-406c-bb2c-efea3fc04d48\" name=\"files[]\" multiple disabled\n",
              "        style=\"border:none\" />\n",
              "     <output id=\"result-edf340e6-9823-406c-bb2c-efea3fc04d48\">\n",
              "      Upload widget is only available when the cell has been executed in the\n",
              "      current browser session. Please rerun this cell to enable.\n",
              "      </output>\n",
              "      <script src=\"/nbextensions/google.colab/files.js\"></script> "
            ],
            "text/plain": [
              "<IPython.core.display.HTML object>"
            ]
          },
          "metadata": {
            "tags": []
          }
        }
      ]
    },
    {
      "cell_type": "markdown",
      "metadata": {
        "id": "uUzeD9upmeMQ"
      },
      "source": [
        "Imports\n"
      ]
    },
    {
      "cell_type": "code",
      "metadata": {
        "id": "p8g2U7uuH7dK",
        "outputId": "f14aa4ab-c74d-49fa-c1d4-6199b9afb8d2",
        "colab": {
          "base_uri": "https://localhost:8080/",
          "height": 35
        }
      },
      "source": [
        "%tensorflow_version 1.x"
      ],
      "execution_count": null,
      "outputs": [
        {
          "output_type": "stream",
          "text": [
            "TensorFlow 1.x selected.\n"
          ],
          "name": "stdout"
        }
      ]
    },
    {
      "cell_type": "code",
      "metadata": {
        "id": "O0hGW4BzgMRn",
        "outputId": "357b34ed-8077-460e-e90d-f83bc43dade2",
        "colab": {
          "base_uri": "https://localhost:8080/",
          "height": 35
        }
      },
      "source": [
        "from attention import AttentionLayer\n",
        "import numpy as np\n",
        "import pandas as pd \n",
        "import re\n",
        "from bs4 import BeautifulSoup\n",
        "from keras.preprocessing.text import Tokenizer \n",
        "from keras.preprocessing.sequence import pad_sequences\n",
        "from nltk.corpus import stopwords\n",
        "from tensorflow.keras.layers import Input, LSTM, Embedding, Dense, Concatenate, TimeDistributed\n",
        "from tensorflow.keras.models import Model\n",
        "from tensorflow.keras.callbacks import EarlyStopping\n",
        "import warnings\n",
        "pd.set_option(\"display.max_colwidth\", 200)\n",
        "warnings.filterwarnings(\"ignore\")\n"
      ],
      "execution_count": null,
      "outputs": [
        {
          "output_type": "stream",
          "text": [
            "Using TensorFlow backend.\n"
          ],
          "name": "stderr"
        }
      ]
    },
    {
      "cell_type": "markdown",
      "metadata": {
        "id": "iYFfAJ37mb9G"
      },
      "source": [
        "Reading in the file "
      ]
    },
    {
      "cell_type": "code",
      "metadata": {
        "id": "8F5IC-wAhCfz",
        "outputId": "6a907f2c-e04c-47f0-8fe8-784de99bc151",
        "colab": {
          "base_uri": "https://localhost:8080/",
          "height": 323
        }
      },
      "source": [
        "data=pd.read_csv(\"sample_data/Reviews.csv\",nrows=10000)\n",
        "data.drop_duplicates(subset=['Text'],inplace=True)#dropping duplicates\n",
        "data.dropna(axis=0,inplace=True)#dropping na\n",
        "data.info()"
      ],
      "execution_count": null,
      "outputs": [
        {
          "output_type": "stream",
          "text": [
            "<class 'pandas.core.frame.DataFrame'>\n",
            "Int64Index: 9513 entries, 0 to 9999\n",
            "Data columns (total 10 columns):\n",
            " #   Column                  Non-Null Count  Dtype \n",
            "---  ------                  --------------  ----- \n",
            " 0   Id                      9513 non-null   int64 \n",
            " 1   ProductId               9513 non-null   object\n",
            " 2   UserId                  9513 non-null   object\n",
            " 3   ProfileName             9513 non-null   object\n",
            " 4   HelpfulnessNumerator    9513 non-null   int64 \n",
            " 5   HelpfulnessDenominator  9513 non-null   int64 \n",
            " 6   Score                   9513 non-null   int64 \n",
            " 7   Time                    9513 non-null   int64 \n",
            " 8   Summary                 9513 non-null   object\n",
            " 9   Text                    9513 non-null   object\n",
            "dtypes: int64(5), object(5)\n",
            "memory usage: 817.5+ KB\n"
          ],
          "name": "stdout"
        }
      ]
    },
    {
      "cell_type": "markdown",
      "metadata": {
        "id": "laRoJCusmVVw"
      },
      "source": [
        "This is cleaning the text data in the file\n"
      ]
    },
    {
      "cell_type": "code",
      "metadata": {
        "id": "k8UtPjM_hbsF",
        "outputId": "22a5eb1f-e25c-4f6d-d5ae-0238a2708cdd",
        "colab": {
          "base_uri": "https://localhost:8080/",
          "height": 127
        }
      },
      "source": [
        "contraction_mapping = {\"ain't\": \"is not\", \"aren't\": \"are not\",\"can't\": \"cannot\", \"'cause\": \"because\", \"could've\": \"could have\", \"couldn't\": \"could not\",\n",
        "                           \"didn't\": \"did not\",  \"doesn't\": \"does not\", \"don't\": \"do not\", \"hadn't\": \"had not\", \"hasn't\": \"has not\", \"haven't\": \"have not\",\n",
        "                           \"he'd\": \"he would\",\"he'll\": \"he will\", \"he's\": \"he is\", \"how'd\": \"how did\", \"how'd'y\": \"how do you\", \"how'll\": \"how will\", \"how's\": \"how is\",\n",
        "                           \"I'd\": \"I would\", \"I'd've\": \"I would have\", \"I'll\": \"I will\", \"I'll've\": \"I will have\",\"I'm\": \"I am\", \"I've\": \"I have\", \"i'd\": \"i would\",\n",
        "                           \"i'd've\": \"i would have\", \"i'll\": \"i will\",  \"i'll've\": \"i will have\",\"i'm\": \"i am\", \"i've\": \"i have\", \"isn't\": \"is not\", \"it'd\": \"it would\",\n",
        "                           \"it'd've\": \"it would have\", \"it'll\": \"it will\", \"it'll've\": \"it will have\",\"it's\": \"it is\", \"let's\": \"let us\", \"ma'am\": \"madam\",\n",
        "                           \"mayn't\": \"may not\", \"might've\": \"might have\",\"mightn't\": \"might not\",\"mightn't've\": \"might not have\", \"must've\": \"must have\",\n",
        "                           \"mustn't\": \"must not\", \"mustn't've\": \"must not have\", \"needn't\": \"need not\", \"needn't've\": \"need not have\",\"o'clock\": \"of the clock\",\n",
        "                           \"oughtn't\": \"ought not\", \"oughtn't've\": \"ought not have\", \"shan't\": \"shall not\", \"sha'n't\": \"shall not\", \"shan't've\": \"shall not have\",\n",
        "                           \"she'd\": \"she would\", \"she'd've\": \"she would have\", \"she'll\": \"she will\", \"she'll've\": \"she will have\", \"she's\": \"she is\",\n",
        "                           \"should've\": \"should have\", \"shouldn't\": \"should not\", \"shouldn't've\": \"should not have\", \"so've\": \"so have\",\"so's\": \"so as\",\n",
        "                           \"this's\": \"this is\",\"that'd\": \"that would\", \"that'd've\": \"that would have\", \"that's\": \"that is\", \"there'd\": \"there would\",\n",
        "                           \"there'd've\": \"there would have\", \"there's\": \"there is\", \"here's\": \"here is\",\"they'd\": \"they would\", \"they'd've\": \"they would have\",\n",
        "                           \"they'll\": \"they will\", \"they'll've\": \"they will have\", \"they're\": \"they are\", \"they've\": \"they have\", \"to've\": \"to have\",\n",
        "                           \"wasn't\": \"was not\", \"we'd\": \"we would\", \"we'd've\": \"we would have\", \"we'll\": \"we will\", \"we'll've\": \"we will have\", \"we're\": \"we are\",\n",
        "                           \"we've\": \"we have\", \"weren't\": \"were not\", \"what'll\": \"what will\", \"what'll've\": \"what will have\", \"what're\": \"what are\",\n",
        "                           \"what's\": \"what is\", \"what've\": \"what have\", \"when's\": \"when is\", \"when've\": \"when have\", \"where'd\": \"where did\", \"where's\": \"where is\",\n",
        "                           \"where've\": \"where have\", \"who'll\": \"who will\", \"who'll've\": \"who will have\", \"who's\": \"who is\", \"who've\": \"who have\",\n",
        "                           \"why's\": \"why is\", \"why've\": \"why have\", \"will've\": \"will have\", \"won't\": \"will not\", \"won't've\": \"will not have\",\n",
        "                           \"would've\": \"would have\", \"wouldn't\": \"would not\", \"wouldn't've\": \"would not have\", \"y'all\": \"you all\",\n",
        "                           \"y'all'd\": \"you all would\",\"y'all'd've\": \"you all would have\",\"y'all're\": \"you all are\",\"y'all've\": \"you all have\",\n",
        "                           \"you'd\": \"you would\", \"you'd've\": \"you would have\", \"you'll\": \"you will\", \"you'll've\": \"you will have\",\n",
        "                           \"you're\": \"you are\", \"you've\": \"you have\"}\n",
        "\n",
        "\n",
        "stop_words = set(stopwords.words('english')) \n",
        "\n",
        "def text_cleaner(text,num):\n",
        "    newString = text.lower()\n",
        "    newString = BeautifulSoup(newString, \"lxml\").text\n",
        "    newString = re.sub(r'\\([^)]*\\)', '', newString)\n",
        "    newString = re.sub('\"','', newString)\n",
        "    newString = ' '.join([contraction_mapping[t] if t in contraction_mapping else t for t in newString.split(\" \")])    \n",
        "    newString = re.sub(r\"'s\\b\",\"\",newString)\n",
        "    newString = re.sub(\"[^a-zA-Z]\", \" \", newString) \n",
        "    newString = re.sub('[m]{2,}', 'mm', newString)\n",
        "    if(num==0):\n",
        "        tokens = [w for w in newString.split() if not w in stop_words]\n",
        "    else:\n",
        "        tokens=newString.split()\n",
        "    long_words=[]\n",
        "    for i in tokens:\n",
        "        if len(i)>1:                                                 #removing short word\n",
        "            long_words.append(i)   \n",
        "    return (\" \".join(long_words)).strip()\n",
        "cleaned_text = []\n",
        "for t in data['Text']:\n",
        "    cleaned_text.append(text_cleaner(t,0))\n",
        "cleaned_text[:5]"
      ],
      "execution_count": null,
      "outputs": [
        {
          "output_type": "execute_result",
          "data": {
            "text/plain": [
              "['bought several vitality canned dog food products found good quality product looks like stew processed meat smells better labrador finicky appreciates product better',\n",
              " 'product arrived labeled jumbo salted peanuts peanuts actually small sized unsalted sure error vendor intended represent product jumbo',\n",
              " 'confection around centuries light pillowy citrus gelatin nuts case filberts cut tiny squares liberally coated powdered sugar tiny mouthful heaven chewy flavorful highly recommend yummy treat familiar story lewis lion witch wardrobe treat seduces edmund selling brother sisters witch',\n",
              " 'looking secret ingredient robitussin believe found got addition root beer extract ordered made cherry soda flavor medicinal',\n",
              " 'great taffy great price wide assortment yummy taffy delivery quick taffy lover deal']"
            ]
          },
          "metadata": {
            "tags": []
          },
          "execution_count": 5
        }
      ]
    },
    {
      "cell_type": "markdown",
      "metadata": {
        "id": "7g9n-4-MmhOs"
      },
      "source": [
        "Call clean function on summaries and print the first 10"
      ]
    },
    {
      "cell_type": "code",
      "metadata": {
        "id": "8-hOXAHbjWL6",
        "outputId": "33d18fe9-6fa1-4c8f-9c8e-7c2fb6e5b261",
        "colab": {
          "base_uri": "https://localhost:8080/",
          "height": 197
        }
      },
      "source": [
        "cleaned_summary = []\n",
        "for t in data['Summary']:\n",
        "    cleaned_summary.append(text_cleaner(t,1))\n",
        "cleaned_summary[:10]\n"
      ],
      "execution_count": null,
      "outputs": [
        {
          "output_type": "execute_result",
          "data": {
            "text/plain": [
              "['good quality dog food',\n",
              " 'not as advertised',\n",
              " 'delight says it all',\n",
              " 'cough medicine',\n",
              " 'great taffy',\n",
              " 'nice taffy',\n",
              " 'great just as good as the expensive brands',\n",
              " 'wonderful tasty taffy',\n",
              " 'yay barley',\n",
              " 'healthy dog food']"
            ]
          },
          "metadata": {
            "tags": []
          },
          "execution_count": 6
        }
      ]
    },
    {
      "cell_type": "markdown",
      "metadata": {
        "id": "h3t611F_mnUz"
      },
      "source": [
        "Create two more columns in the dataframe for the cleaned versions of the reviews and summaries\n"
      ]
    },
    {
      "cell_type": "code",
      "metadata": {
        "id": "3uHO-7FMkiV7"
      },
      "source": [
        "data['cleaned_text']=cleaned_text\n",
        "data['cleaned_summary']=cleaned_summary\n",
        "data.replace('', np.nan, inplace=True)\n",
        "data.dropna(axis=0,inplace=True)"
      ],
      "execution_count": null,
      "outputs": []
    },
    {
      "cell_type": "markdown",
      "metadata": {
        "id": "4Dd1hjOxmxLU"
      },
      "source": [
        "Observe the distr of the sequences in order to set a max length of summaries"
      ]
    },
    {
      "cell_type": "code",
      "metadata": {
        "id": "O6xzlgdYBfZC",
        "outputId": "0cb9c5d5-5b46-4422-a009-b4ef3f2b366e",
        "colab": {
          "base_uri": "https://localhost:8080/",
          "height": 281
        }
      },
      "source": [
        "import matplotlib.pyplot as plt\n",
        "\n",
        "text_word_count = []\n",
        "summary_word_count = []\n",
        "\n",
        "# populate the lists with sentence lengths\n",
        "for i in data['cleaned_text']:\n",
        "      text_word_count.append(len(i.split()))\n",
        "\n",
        "for i in data['cleaned_summary']:\n",
        "      summary_word_count.append(len(i.split()))\n",
        "\n",
        "length_df = pd.DataFrame({'text':text_word_count, 'summary':summary_word_count})\n",
        "\n",
        "length_df.hist(bins = 30)\n",
        "plt.show()"
      ],
      "execution_count": null,
      "outputs": [
        {
          "output_type": "display_data",
          "data": {
            "image/png": "[encoded data removed]",
            "text/plain": [
              "<Figure size 432x288 with 2 Axes>"
            ]
          },
          "metadata": {
            "tags": [],
            "needs_background": "light"
          }
        }
      ]
    },
    {
      "cell_type": "markdown",
      "metadata": {
        "id": "1CHl3x-goKvY"
      },
      "source": [
        "Looks like majoirty of summaries are length 8 so we will test to see the percentage."
      ]
    },
    {
      "cell_type": "code",
      "metadata": {
        "id": "KahzTn8AoJxV",
        "outputId": "c8cccf36-0ce5-48b8-8ba0-90fbd43dfcd9",
        "colab": {
          "base_uri": "https://localhost:8080/",
          "height": 35
        }
      },
      "source": [
        "cnt=0\n",
        "for i in data['cleaned_summary']:\n",
        "    if(len(i.split())<=8):\n",
        "        cnt=cnt+1\n",
        "print(cnt/len(data['cleaned_summary']))"
      ],
      "execution_count": null,
      "outputs": [
        {
          "output_type": "stream",
          "text": [
            "0.9465544450289322\n"
          ],
          "name": "stdout"
        }
      ]
    },
    {
      "cell_type": "markdown",
      "metadata": {
        "id": "fuQHI-HCpFG9"
      },
      "source": [
        "Choose summaries and texts whose length is within the bounds we set"
      ]
    },
    {
      "cell_type": "code",
      "metadata": {
        "id": "B62QHUSMoVV7"
      },
      "source": [
        "max_text_len=30\n",
        "max_summary_len=8\n",
        "\n",
        "cleaned_text =np.array(data['cleaned_text'])\n",
        "cleaned_summary=np.array(data['cleaned_summary'])\n",
        "\n",
        "short_text=[]\n",
        "short_summary=[]\n",
        "\n",
        "for i in range(len(cleaned_text)):\n",
        "    if(len(cleaned_summary[i].split())<=max_summary_len and len(cleaned_text[i].split())<=max_text_len):\n",
        "        short_text.append(cleaned_text[i])\n",
        "        short_summary.append(cleaned_summary[i])\n",
        "        \n",
        "df=pd.DataFrame({'text':short_text,'summary':short_summary})"
      ],
      "execution_count": null,
      "outputs": []
    },
    {
      "cell_type": "markdown",
      "metadata": {
        "id": "w0s3oT6UpnTT"
      },
      "source": [
        "Add start and end tokens and split into train and test sets"
      ]
    },
    {
      "cell_type": "code",
      "metadata": {
        "id": "P41kBgzkpo_J",
        "outputId": "c85b739a-09ab-478c-d413-8513445afb03",
        "colab": {
          "base_uri": "https://localhost:8080/",
          "height": 35
        }
      },
      "source": [
        "df['summary'] = df['summary'].apply(lambda x : 'sostok '+ x + ' eostok')\n",
        "from sklearn.model_selection import train_test_split\n",
        "x_tr,x_val,y_tr,y_val=train_test_split(np.array(df['text']),np.array(df['summary']),test_size=0.1,random_state=0,shuffle=True)\n",
        "len(x_tr)"
      ],
      "execution_count": null,
      "outputs": [
        {
          "output_type": "execute_result",
          "data": {
            "text/plain": [
              "4772"
            ]
          },
          "metadata": {
            "tags": []
          },
          "execution_count": 11
        }
      ]
    },
    {
      "cell_type": "markdown",
      "metadata": {
        "id": "dg2XJO5JqUdq"
      },
      "source": [
        "Set up TEXT tokenizer and look for rarewords(words that occur less than 4 times)\n"
      ]
    },
    {
      "cell_type": "code",
      "metadata": {
        "id": "sci3POPPqS4a",
        "outputId": "a6286472-b157-467d-ef05-f2508b8b12fe",
        "colab": {
          "base_uri": "https://localhost:8080/",
          "height": 53
        }
      },
      "source": [
        "#prepare a tokenizer for reviews on training data\n",
        "x_tokenizer = Tokenizer() \n",
        "x_tokenizer.fit_on_texts(list(x_tr))\n",
        "\n",
        "thresh=4\n",
        "\n",
        "cnt=0\n",
        "tot_cnt=0\n",
        "freq=0\n",
        "tot_freq=0\n",
        "\n",
        "for key,value in x_tokenizer.word_counts.items():\n",
        "    tot_cnt=tot_cnt+1\n",
        "    tot_freq=tot_freq+value\n",
        "    if(value<thresh):\n",
        "        cnt=cnt+1\n",
        "        freq=freq+value\n",
        "    \n",
        "print(\"% of rare words in vocabulary:\",(cnt/tot_cnt)*100)\n",
        "print(\"Total Coverage of rare words:\",(freq/tot_freq)*100)"
      ],
      "execution_count": null,
      "outputs": [
        {
          "output_type": "stream",
          "text": [
            "% of rare words in vocabulary: 68.39143730886849\n",
            "Total Coverage of rare words: 9.150849382372709\n"
          ],
          "name": "stdout"
        }
      ]
    },
    {
      "cell_type": "code",
      "metadata": {
        "id": "ZRhFupM5C0u_",
        "outputId": "db211c8e-3c34-44dc-c711-5b8e3e4f759b",
        "colab": {
          "base_uri": "https://localhost:8080/",
          "height": 35
        }
      },
      "source": [
        "#prepare a tokenizer for reviews on training data\n",
        "x_tokenizer = Tokenizer(num_words=tot_cnt-cnt) \n",
        "x_tokenizer.fit_on_texts(list(x_tr))\n",
        "\n",
        "#convert text sequences into integer sequences\n",
        "x_tr_seq    =   x_tokenizer.texts_to_sequences(x_tr) \n",
        "x_val_seq   =   x_tokenizer.texts_to_sequences(x_val)\n",
        "\n",
        "#padding zero upto maximum length\n",
        "x_tr    =   pad_sequences(x_tr_seq,  maxlen=max_text_len, padding='post')\n",
        "x_val   =   pad_sequences(x_val_seq, maxlen=max_text_len, padding='post')\n",
        "\n",
        "#size of vocabulary ( +1 for padding token)\n",
        "x_voc   =  x_tokenizer.num_words + 1\n",
        "x_voc"
      ],
      "execution_count": null,
      "outputs": [
        {
          "output_type": "execute_result",
          "data": {
            "text/plain": [
              "2585"
            ]
          },
          "metadata": {
            "tags": []
          },
          "execution_count": 13
        }
      ]
    },
    {
      "cell_type": "markdown",
      "metadata": {
        "id": "XY1Ygt3uC-9A"
      },
      "source": [
        "Set up SUMMARY tokenizer and look for rarewords"
      ]
    },
    {
      "cell_type": "code",
      "metadata": {
        "id": "bdsqkHCtDAay",
        "outputId": "67583721-1be0-424e-bd53-92630fea5d8c",
        "colab": {
          "base_uri": "https://localhost:8080/",
          "height": 53
        }
      },
      "source": [
        "y_tokenizer = Tokenizer()   \n",
        "y_tokenizer.fit_on_texts(list(y_tr))\n",
        "\n",
        "thresh=6\n",
        "\n",
        "cnt=0\n",
        "tot_cnt=0\n",
        "freq=0\n",
        "tot_freq=0\n",
        "\n",
        "for key,value in y_tokenizer.word_counts.items():\n",
        "    tot_cnt=tot_cnt+1\n",
        "    tot_freq=tot_freq+value\n",
        "    if(value<thresh):\n",
        "        cnt=cnt+1\n",
        "        freq=freq+value\n",
        "    \n",
        "print(\"% of rare words in vocabulary:\",(cnt/tot_cnt)*100)\n",
        "print(\"Total Coverage of rare words:\",(freq/tot_freq)*100)"
      ],
      "execution_count": null,
      "outputs": [
        {
          "output_type": "stream",
          "text": [
            "% of rare words in vocabulary: 84.49258836944128\n",
            "Total Coverage of rare words: 14.563302087943034\n"
          ],
          "name": "stdout"
        }
      ]
    },
    {
      "cell_type": "markdown",
      "metadata": {
        "id": "w5TjMIpDDQx7"
      },
      "source": [
        ""
      ]
    },
    {
      "cell_type": "code",
      "metadata": {
        "id": "ehNxGiuZDT_k"
      },
      "source": [
        "#prepare a tokenizer for reviews on training data\n",
        "y_tokenizer = Tokenizer(num_words=tot_cnt-cnt) \n",
        "y_tokenizer.fit_on_texts(list(y_tr))\n",
        "\n",
        "#convert text sequences into integer sequences\n",
        "y_tr_seq    =   y_tokenizer.texts_to_sequences(y_tr) \n",
        "y_val_seq   =   y_tokenizer.texts_to_sequences(y_val) \n",
        "\n",
        "#padding zero upto maximum length\n",
        "y_tr    =   pad_sequences(y_tr_seq, maxlen=max_summary_len, padding='post')\n",
        "y_val   =   pad_sequences(y_val_seq, maxlen=max_summary_len, padding='post')\n",
        "\n",
        "#size of vocabulary\n",
        "y_voc  =   y_tokenizer.num_words +1"
      ],
      "execution_count": null,
      "outputs": []
    },
    {
      "cell_type": "code",
      "metadata": {
        "id": "xGgMZOW6EJfX",
        "outputId": "53862673-f6b2-47c0-eea3-1c14d8a940af",
        "colab": {
          "base_uri": "https://localhost:8080/",
          "height": 35
        }
      },
      "source": [
        "y_tokenizer.word_counts['sostok'],len(y_tr)"
      ],
      "execution_count": null,
      "outputs": [
        {
          "output_type": "execute_result",
          "data": {
            "text/plain": [
              "(4772, 4772)"
            ]
          },
          "metadata": {
            "tags": []
          },
          "execution_count": 16
        }
      ]
    },
    {
      "cell_type": "markdown",
      "metadata": {
        "id": "s_mvx6PEEQyU"
      },
      "source": [
        "Delete those instances that only have start and end tokens"
      ]
    },
    {
      "cell_type": "code",
      "metadata": {
        "id": "l292QKbUEU4_"
      },
      "source": [
        "ind=[]\n",
        "for i in range(len(y_tr)):\n",
        "    cnt=0\n",
        "    for j in y_tr[i]:\n",
        "        if j!=0:\n",
        "            cnt=cnt+1\n",
        "    if(cnt==2):\n",
        "        ind.append(i)\n",
        "\n",
        "y_tr=np.delete(y_tr,ind, axis=0)\n",
        "x_tr=np.delete(x_tr,ind, axis=0)\n",
        "ind=[]\n",
        "for i in range(len(y_val)):\n",
        "    cnt=0\n",
        "    for j in y_val[i]:\n",
        "        if j!=0:\n",
        "            cnt=cnt+1\n",
        "    if(cnt==2):\n",
        "        ind.append(i)\n",
        "\n",
        "y_val=np.delete(y_val,ind, axis=0)\n",
        "x_val=np.delete(x_val,ind, axis=0)"
      ],
      "execution_count": null,
      "outputs": []
    },
    {
      "cell_type": "markdown",
      "metadata": {
        "id": "gMS-a1jZlFrV"
      },
      "source": [
        "Copied text from model source:\n",
        "We are finally at the model building part. But before we do that, we need to familiarize ourselves with a few terms which are required prior to building the model.\n",
        "\n",
        "Return Sequences = True: When the return sequences parameter is set to True, LSTM produces the hidden state and cell state for every timestep\n",
        "\n",
        "Return State = True: When return state = True, LSTM produces the hidden state and cell state of the last timestep only\n",
        "\n",
        "Initial State: This is used to initialize the internal states of the LSTM for the first timestep\n",
        "\n",
        "Stacked LSTM: Stacked LSTM has multiple layers of LSTM stacked on top of each other. This leads to a better representation of the sequence. I encourage you to experiment with the multiple layers of the LSTM stacked on top of each other (it’s a great way to learn this)\n",
        "\n",
        "Here, we are building a 3 stacked LSTM for the encoder:"
      ]
    },
    {
      "cell_type": "markdown",
      "metadata": {
        "id": "Zir8lNd9lIh3"
      },
      "source": [
        ""
      ]
    },
    {
      "cell_type": "code",
      "metadata": {
        "id": "1Vc8testEfvf",
        "outputId": "8f1234a2-a70a-4968-f86c-89eefe65904e",
        "colab": {
          "base_uri": "https://localhost:8080/",
          "height": 793
        }
      },
      "source": [
        "from keras import backend as K \n",
        "K.clear_session()\n",
        "\n",
        "latent_dim = 300\n",
        "embedding_dim=100\n",
        "\n",
        "# Encoder\n",
        "encoder_inputs = Input(shape=(max_text_len,))\n",
        "\n",
        "#embedding layer\n",
        "enc_emb =  Embedding(x_voc, embedding_dim,trainable=True)(encoder_inputs)\n",
        "\n",
        "#encoder lstm 1\n",
        "encoder_lstm1 = LSTM(latent_dim,return_sequences=True,return_state=True,dropout=0.4,recurrent_dropout=0.4)\n",
        "encoder_output1, state_h1, state_c1 = encoder_lstm1(enc_emb)\n",
        "\n",
        "#encoder lstm 2\n",
        "encoder_lstm2 = LSTM(latent_dim,return_sequences=True,return_state=True,dropout=0.4,recurrent_dropout=0.4)\n",
        "encoder_output2, state_h2, state_c2 = encoder_lstm2(encoder_output1)\n",
        "\n",
        "#encoder lstm 3\n",
        "encoder_lstm3=LSTM(latent_dim, return_state=True, return_sequences=True,dropout=0.4,recurrent_dropout=0.4)\n",
        "encoder_outputs, state_h, state_c= encoder_lstm3(encoder_output2)\n",
        "\n",
        "# Set up the decoder, using `encoder_states` as initial state.\n",
        "decoder_inputs = Input(shape=(None,))\n",
        "\n",
        "#embedding layer\n",
        "dec_emb_layer = Embedding(y_voc, embedding_dim,trainable=True)\n",
        "dec_emb = dec_emb_layer(decoder_inputs)\n",
        "\n",
        "decoder_lstm = LSTM(latent_dim, return_sequences=True, return_state=True,dropout=0.4,recurrent_dropout=0.2)\n",
        "decoder_outputs,decoder_fwd_state, decoder_back_state = decoder_lstm(dec_emb,initial_state=[state_h, state_c])\n",
        "\n",
        "# Attention layer\n",
        "attn_layer = AttentionLayer(name='attention_layer')\n",
        "attn_out, attn_states = attn_layer([encoder_outputs, decoder_outputs])\n",
        "\n",
        "# Concat attention input and decoder LSTM output\n",
        "decoder_concat_input = Concatenate(axis=-1, name='concat_layer')([decoder_outputs, attn_out])\n",
        "\n",
        "#dense layer\n",
        "decoder_dense =  TimeDistributed(Dense(y_voc, activation='softmax'))\n",
        "decoder_outputs = decoder_dense(decoder_concat_input)\n",
        "\n",
        "# Define the model \n",
        "model = Model([encoder_inputs, decoder_inputs], decoder_outputs)\n",
        "\n",
        "model.summary()"
      ],
      "execution_count": null,
      "outputs": [
        {
          "output_type": "stream",
          "text": [
            "WARNING:tensorflow:From /tensorflow-1.15.2/python3.6/tensorflow_core/python/keras/initializers.py:119: calling RandomUniform.__init__ (from tensorflow.python.ops.init_ops) with dtype is deprecated and will be removed in a future version.\n",
            "Instructions for updating:\n",
            "Call initializer instance with the dtype argument instead of passing it to the constructor\n",
            "WARNING:tensorflow:From /tensorflow-1.15.2/python3.6/tensorflow_core/python/ops/resource_variable_ops.py:1630: calling BaseResourceVariable.__init__ (from tensorflow.python.ops.resource_variable_ops) with constraint is deprecated and will be removed in a future version.\n",
            "Instructions for updating:\n",
            "If using Keras pass *_constraint arguments to layers.\n",
            "WARNING:tensorflow:Entity <bound method AttentionLayer.call of <attention.AttentionLayer object at 0x7f9d9fc43780>> could not be transformed and will be executed as-is. Please report this to the AutoGraph team. When filing the bug, set the verbosity to 10 (on Linux, `export AUTOGRAPH_VERBOSITY=10`) and attach the full output. Cause: module 'gast' has no attribute 'Num'\n",
            "WARNING: Entity <bound method AttentionLayer.call of <attention.AttentionLayer object at 0x7f9d9fc43780>> could not be transformed and will be executed as-is. Please report this to the AutoGraph team. When filing the bug, set the verbosity to 10 (on Linux, `export AUTOGRAPH_VERBOSITY=10`) and attach the full output. Cause: module 'gast' has no attribute 'Num'\n",
            "Model: \"model\"\n",
            "__________________________________________________________________________________________________\n",
            "Layer (type)                    Output Shape         Param #     Connected to                     \n",
            "==================================================================================================\n",
            "input_1 (InputLayer)            [(None, 30)]         0                                            \n",
            "__________________________________________________________________________________________________\n",
            "embedding (Embedding)           (None, 30, 100)      258500      input_1[0][0]                    \n",
            "__________________________________________________________________________________________________\n",
            "lstm (LSTM)                     [(None, 30, 300), (N 481200      embedding[0][0]                  \n",
            "__________________________________________________________________________________________________\n",
            "input_2 (InputLayer)            [(None, None)]       0                                            \n",
            "__________________________________________________________________________________________________\n",
            "lstm_1 (LSTM)                   [(None, 30, 300), (N 721200      lstm[0][0]                       \n",
            "__________________________________________________________________________________________________\n",
            "embedding_1 (Embedding)         (None, None, 100)    40900       input_2[0][0]                    \n",
            "__________________________________________________________________________________________________\n",
            "lstm_2 (LSTM)                   [(None, 30, 300), (N 721200      lstm_1[0][0]                     \n",
            "__________________________________________________________________________________________________\n",
            "lstm_3 (LSTM)                   [(None, None, 300),  481200      embedding_1[0][0]                \n",
            "                                                                 lstm_2[0][1]                     \n",
            "                                                                 lstm_2[0][2]                     \n",
            "__________________________________________________________________________________________________\n",
            "attention_layer (AttentionLayer ((None, None, 300),  180300      lstm_2[0][0]                     \n",
            "                                                                 lstm_3[0][0]                     \n",
            "__________________________________________________________________________________________________\n",
            "concat_layer (Concatenate)      (None, None, 600)    0           lstm_3[0][0]                     \n",
            "                                                                 attention_layer[0][0]            \n",
            "__________________________________________________________________________________________________\n",
            "time_distributed (TimeDistribut (None, None, 409)    245809      concat_layer[0][0]               \n",
            "==================================================================================================\n",
            "Total params: 3,130,309\n",
            "Trainable params: 3,130,309\n",
            "Non-trainable params: 0\n",
            "__________________________________________________________________________________________________\n"
          ],
          "name": "stdout"
        }
      ]
    },
    {
      "cell_type": "code",
      "metadata": {
        "id": "OJUSXmmFEo_4"
      },
      "source": [
        "model.compile(optimizer='rmsprop', loss='sparse_categorical_crossentropy')\n",
        "es = EarlyStopping(monitor='val_loss', mode='min', verbose=1,patience=2)\n"
      ],
      "execution_count": null,
      "outputs": []
    },
    {
      "cell_type": "markdown",
      "metadata": {
        "id": "0o-45s7Tk1TF"
      },
      "source": [
        "Original Model used 50 epochs and 43000 instances, but on colab it took too long so I shortened the dataset to only 4000."
      ]
    },
    {
      "cell_type": "code",
      "metadata": {
        "id": "a-nCxanzRU-y",
        "outputId": "0b482ea8-6ef7-4971-caba-a641c187ddd7",
        "colab": {
          "base_uri": "https://localhost:8080/",
          "height": 791
        }
      },
      "source": [
        "history=model.fit([x_tr,y_tr[:,:-1]], y_tr.reshape(y_tr.shape[0],y_tr.shape[1], 1)[:,1:] ,epochs=50,callbacks=[es],batch_size=128, validation_data=([x_val,y_val[:,:-1]], y_val.reshape(y_val.shape[0],y_val.shape[1], 1)[:,1:]))"
      ],
      "execution_count": null,
      "outputs": [
        {
          "output_type": "stream",
          "text": [
            "WARNING:tensorflow:From /tensorflow-1.15.2/python3.6/tensorflow_core/python/ops/math_grad.py:1424: where (from tensorflow.python.ops.array_ops) is deprecated and will be removed in a future version.\n",
            "Instructions for updating:\n",
            "Use tf.where in 2.0, which has the same broadcast rule as np.where\n",
            "Train on 4429 samples, validate on 500 samples\n",
            "Epoch 1/50\n",
            "4429/4429 [==============================] - 98s 22ms/sample - loss: 2.8778 - val_loss: 2.4979\n",
            "Epoch 2/50\n",
            "4429/4429 [==============================] - 88s 20ms/sample - loss: 2.3003 - val_loss: 2.1257\n",
            "Epoch 3/50\n",
            "4429/4429 [==============================] - 89s 20ms/sample - loss: 2.1456 - val_loss: 2.0916\n",
            "Epoch 4/50\n",
            "4429/4429 [==============================] - 90s 20ms/sample - loss: 2.0988 - val_loss: 2.0492\n",
            "Epoch 5/50\n",
            "4429/4429 [==============================] - 90s 20ms/sample - loss: 2.0443 - val_loss: 2.0193\n",
            "Epoch 6/50\n",
            "4429/4429 [==============================] - 93s 21ms/sample - loss: 1.9996 - val_loss: 2.0099\n",
            "Epoch 7/50\n",
            "4429/4429 [==============================] - 88s 20ms/sample - loss: 1.9652 - val_loss: 2.0017\n",
            "Epoch 8/50\n",
            "4429/4429 [==============================] - 90s 20ms/sample - loss: 1.9396 - val_loss: 1.9816\n",
            "Epoch 9/50\n",
            "4429/4429 [==============================] - 88s 20ms/sample - loss: 1.9054 - val_loss: 1.9509\n",
            "Epoch 10/50\n",
            "4429/4429 [==============================] - 87s 20ms/sample - loss: 1.8783 - val_loss: 1.9457\n",
            "Epoch 11/50\n",
            "4429/4429 [==============================] - 88s 20ms/sample - loss: 1.8508 - val_loss: 1.9374\n",
            "Epoch 12/50\n",
            "4429/4429 [==============================] - 90s 20ms/sample - loss: 1.8214 - val_loss: 1.9246\n",
            "Epoch 13/50\n",
            "4429/4429 [==============================] - 93s 21ms/sample - loss: 1.7927 - val_loss: 1.9365\n",
            "Epoch 14/50\n",
            "4429/4429 [==============================] - 87s 20ms/sample - loss: 1.7687 - val_loss: 1.9111\n",
            "Epoch 15/50\n",
            "4429/4429 [==============================] - 89s 20ms/sample - loss: 1.7375 - val_loss: 1.9019\n",
            "Epoch 16/50\n",
            "4429/4429 [==============================] - 89s 20ms/sample - loss: 1.7101 - val_loss: 1.9027\n",
            "Epoch 17/50\n",
            "4429/4429 [==============================] - 87s 20ms/sample - loss: 1.6833 - val_loss: 1.8892\n",
            "Epoch 18/50\n",
            "4429/4429 [==============================] - 87s 20ms/sample - loss: 1.6562 - val_loss: 1.8979\n",
            "Epoch 19/50\n",
            "4429/4429 [==============================] - 94s 21ms/sample - loss: 1.6345 - val_loss: 1.8898\n",
            "Epoch 00019: early stopping\n"
          ],
          "name": "stdout"
        }
      ]
    },
    {
      "cell_type": "code",
      "metadata": {
        "id": "XBE12U-pBoq3",
        "outputId": "5fb5d12f-072f-4343-d69e-e95965bea2eb",
        "colab": {
          "base_uri": "https://localhost:8080/",
          "height": 265
        }
      },
      "source": [
        "\n",
        "from matplotlib import pyplot\n",
        "pyplot.plot(history.history['loss'], label='train')\n",
        "pyplot.plot(history.history['val_loss'], label='test')\n",
        "pyplot.legend()\n",
        "pyplot.show()"
      ],
      "execution_count": null,
      "outputs": [
        {
          "output_type": "display_data",
          "data": {
            "image/png": "[encoded data removed]",
            "text/plain": [
              "<Figure size 432x288 with 1 Axes>"
            ]
          },
          "metadata": {
            "tags": [],
            "needs_background": "light"
          }
        }
      ]
    },
    {
      "cell_type": "markdown",
      "metadata": {
        "id": "MtZU5g1bkkOQ"
      },
      "source": [
        "Setting up coder and decoder for inferencing"
      ]
    },
    {
      "cell_type": "code",
      "metadata": {
        "id": "y1rKWz71B0sl",
        "outputId": "33b3e432-7081-4594-d05d-8c95bd1d63ae",
        "colab": {
          "base_uri": "https://localhost:8080/",
          "height": 73
        }
      },
      "source": [
        "reverse_target_word_index=y_tokenizer.index_word\n",
        "reverse_source_word_index=x_tokenizer.index_word\n",
        "target_word_index=y_tokenizer.word_index\n",
        "# Encode the input sequence to get the feature vector\n",
        "encoder_model = Model(inputs=encoder_inputs,outputs=[encoder_outputs, state_h, state_c])\n",
        "\n",
        "# Decoder setup\n",
        "# Below tensors will hold the states of the previous time step\n",
        "decoder_state_input_h = Input(shape=(latent_dim,))\n",
        "decoder_state_input_c = Input(shape=(latent_dim,))\n",
        "decoder_hidden_state_input = Input(shape=(max_text_len,latent_dim))\n",
        "\n",
        "# Get the embeddings of the decoder sequence\n",
        "dec_emb2= dec_emb_layer(decoder_inputs) \n",
        "# To predict the next word in the sequence, set the initial states to the states from the previous time step\n",
        "decoder_outputs2, state_h2, state_c2 = decoder_lstm(dec_emb2, initial_state=[decoder_state_input_h, decoder_state_input_c])\n",
        "\n",
        "#attention inference\n",
        "attn_out_inf, attn_states_inf = attn_layer([decoder_hidden_state_input, decoder_outputs2])\n",
        "decoder_inf_concat = Concatenate(axis=-1, name='concat')([decoder_outputs2, attn_out_inf])\n",
        "\n",
        "# A dense softmax layer to generate prob dist. over the target vocabulary\n",
        "decoder_outputs2 = decoder_dense(decoder_inf_concat) \n",
        "\n",
        "# Final decoder model\n",
        "decoder_model = Model(\n",
        "    [decoder_inputs] + [decoder_hidden_state_input,decoder_state_input_h, decoder_state_input_c],\n",
        "    [decoder_outputs2] + [state_h2, state_c2])"
      ],
      "execution_count": null,
      "outputs": [
        {
          "output_type": "stream",
          "text": [
            "WARNING:tensorflow:Entity <bound method AttentionLayer.call of <attention.AttentionLayer object at 0x7f9d9fc43780>> could not be transformed and will be executed as-is. Please report this to the AutoGraph team. When filing the bug, set the verbosity to 10 (on Linux, `export AUTOGRAPH_VERBOSITY=10`) and attach the full output. Cause: module 'gast' has no attribute 'Num'\n",
            "WARNING: Entity <bound method AttentionLayer.call of <attention.AttentionLayer object at 0x7f9d9fc43780>> could not be transformed and will be executed as-is. Please report this to the AutoGraph team. When filing the bug, set the verbosity to 10 (on Linux, `export AUTOGRAPH_VERBOSITY=10`) and attach the full output. Cause: module 'gast' has no attribute 'Num'\n"
          ],
          "name": "stdout"
        }
      ]
    },
    {
      "cell_type": "markdown",
      "metadata": {
        "id": "zMGZMfSMkhAn"
      },
      "source": [
        "This is the inference function"
      ]
    },
    {
      "cell_type": "code",
      "metadata": {
        "id": "94wC_nPmCHEY"
      },
      "source": [
        "def decode_sequence(input_seq):\n",
        "    # Encode the input as state vectors.\n",
        "    e_out, e_h, e_c = encoder_model.predict(input_seq)\n",
        "    \n",
        "    # Generate empty target sequence of length 1.\n",
        "    target_seq = np.zeros((1,1))\n",
        "    \n",
        "    # Populate the first word of target sequence with the start word.\n",
        "    target_seq[0, 0] = target_word_index['sostok']\n",
        "\n",
        "    stop_condition = False\n",
        "    decoded_sentence = ''\n",
        "    while not stop_condition:\n",
        "      \n",
        "        output_tokens, h, c = decoder_model.predict([target_seq] + [e_out, e_h, e_c])\n",
        "\n",
        "        # Sample a token\n",
        "        sampled_token_index = np.argmax(output_tokens[0, -1, :])\n",
        "        sampled_token = reverse_target_word_index[sampled_token_index]\n",
        "        \n",
        "        if(sampled_token!='eostok'):\n",
        "            decoded_sentence += ' '+sampled_token\n",
        "\n",
        "        # Exit condition: either hit max length or find stop word.\n",
        "        if (sampled_token == 'eostok'  or len(decoded_sentence.split()) >= (max_summary_len-1)):\n",
        "            stop_condition = True\n",
        "\n",
        "        # Update the target sequence (of length 1).\n",
        "        target_seq = np.zeros((1,1))\n",
        "        target_seq[0, 0] = sampled_token_index\n",
        "\n",
        "        # Update internal states\n",
        "        e_h, e_c = h, c\n",
        "\n",
        "    return decoded_sentence"
      ],
      "execution_count": null,
      "outputs": []
    },
    {
      "cell_type": "markdown",
      "metadata": {
        "id": "fQ9hcPk0kSsv"
      },
      "source": [
        "These functions convert an integer sequence to a word sequence"
      ]
    },
    {
      "cell_type": "code",
      "metadata": {
        "id": "7cz2EDSiCJlA"
      },
      "source": [
        "def seq2summary(input_seq):\n",
        "    newString=''\n",
        "    for i in input_seq:\n",
        "        if((i!=0 and i!=target_word_index['sostok']) and i!=target_word_index['eostok']):\n",
        "            newString=newString+reverse_target_word_index[i]+' '\n",
        "    return newString\n",
        "\n",
        "def seq2text(input_seq):\n",
        "    newString=''\n",
        "    for i in input_seq:\n",
        "        if(i!=0):\n",
        "            newString=newString+reverse_source_word_index[i]+' '\n",
        "    return newString"
      ],
      "execution_count": null,
      "outputs": []
    },
    {
      "cell_type": "markdown",
      "metadata": {
        "id": "WvuFfKMekLY7"
      },
      "source": [
        "Print out the summaries that the model came up with. "
      ]
    },
    {
      "cell_type": "code",
      "metadata": {
        "id": "kgeiMBToCNav",
        "outputId": "e8dc116b-75c2-415a-9f8a-c761a1b3168f",
        "colab": {
          "base_uri": "https://localhost:8080/",
          "height": 1000
        }
      },
      "source": [
        "\n",
        "for i in range(0,100):\n",
        "    print(\"Review:\",seq2text(x_tr[i]))\n",
        "    print(\"Original summary:\",seq2summary(y_tr[i]))\n",
        "    print(\"Predicted summary:\",decode_sequence(x_tr[i].reshape(1,max_text_len)))\n",
        "    print(\"\\n\")"
      ],
      "execution_count": null,
      "outputs": [
        {
          "output_type": "stream",
          "text": [
            "Review: know cannot make tea good south know never enjoyed tea sweet without sweet tastes crisp \n",
            "Original summary: this is the best \n",
            "Predicted summary:  great coffee\n",
            "\n",
            "\n",
            "Review: disappointing folks like say tofu flavor type watery product buy soon got shopping awful disappointing benefits packaging shelf life \n",
            "Original summary: soft for tofu \n",
            "Predicted summary:  great\n",
            "\n",
            "\n",
            "Review: cup gf bisquick cup soy almond milk cup favorite fruit bake quick delicious gluten free bisquick quite fluffy crumbly original definitely worth gf \n",
            "Original summary: great for \n",
            "Predicted summary:  great\n",
            "\n",
            "\n",
            "Review: love product best natural sweetener ever tried tried many use also pancake syrup substitute honey peanut butter honey sandwich last long time good value \n",
            "Original summary: the best \n",
            "Predicted summary:  great snack\n",
            "\n",
            "\n",
            "Review: best tasting brown rice ever kind nutty flavor rice ever tastes great \n",
            "Original summary: fantastic \n",
            "Predicted summary:  great\n",
            "\n",
            "\n",
            "Review: best beer sausages come across taste like old time sausages used get bars younger wont take word ask friends \n",
            "Original summary: the best \n",
            "Predicted summary:  great product\n",
            "\n",
            "\n",
            "Review: flavor horrible many flavors much better hawaiian hazelnut great breakfast bed awesome \n",
            "Original summary: not good at all \n",
            "Predicted summary:  great\n",
            "\n",
            "\n",
            "Review: panda good flavor texture shape best enough chew find bit dry much prefer big solid excellent natural licorice flavor satisfying right chew without gummy \n",
            "Original summary: ok but is much better \n",
            "Predicted summary:  great\n",
            "\n",
            "\n",
            "Review: would rated stars vinegar taste overall bad good snack \n",
            "Original summary: very good \n",
            "Predicted summary:  great\n",
            "\n",
            "\n",
            "Review: dog food ran two weeks ago local source bought called see itching belly ordered amazon yesterday free shipping sent hours later recieved today \n",
            "Original summary: own organic dog food \n",
            "Predicted summary:  great dog food\n",
            "\n",
            "\n",
            "Review: ordered dark hot cocoa would real chocolatey better buying pouch hot chocolate adding hot water actually think pouch added hot water better whole lot cheaper price rip \n",
            "Original summary: not worth the \n",
            "Predicted summary:  great\n",
            "\n",
            "\n",
            "Review: cups son wanted price excellent flavor rich would recommend anyone wanting good cup instant hot cocoa \n",
            "Original summary: delicious \n",
            "Predicted summary:  great\n",
            "\n",
            "\n",
            "Review: made popcorn choice enjoy flavor size \n",
            "Original summary: baby white \n",
            "Predicted summary:  great product\n",
            "\n",
            "\n",
            "Review: hershey sugar free caramel filled chocolates good diabetic friendly chocolate candies fairly small tasty sweetened splenda blood sugar levels cause highly recommended \n",
            "Original summary: great candy highly \n",
            "Predicted summary:  my favorite\n",
            "\n",
            "\n",
            "Review: know chia seeds really super food brand seems good quality bought kinds look better since eat sprinkled morning cereal expensive buy higher priced brand \n",
            "Original summary: good quality \n",
            "Predicted summary:  my loves this\n",
            "\n",
            "\n",
            "Review: must say put life back dog old offers vitamins getting food energy drops \n",
            "Original summary: is the best \n",
            "Predicted summary:  great product\n",
            "\n",
            "\n",
            "Review: really enjoy low calorie chips good flavor good crunch crisp ordering case chips one could order favorites whole flavors say flavors desired great product stop \n",
            "Original summary: yummy \n",
            "Predicted summary:  great chips\n",
            "\n",
            "\n",
            "Review: pleased venus fly trap received good shape came quickly lot fun feeding \n",
            "Original summary: good plant \n",
            "Predicted summary:  great\n",
            "\n",
            "\n",
            "Review: use powdered tea powder fruit smoothies provides health benefits green tea love product use plain lemon ginger \n",
            "Original summary: great \n",
            "Predicted summary:  great coffee\n",
            "\n",
            "\n",
            "Review: carrot juice best tried many brands tastiest love carrot orange super veggie healthy great tasting get better \n",
            "Original summary: best ever \n",
            "Predicted summary:  great product\n",
            "\n",
            "\n",
            "Review: ok soup expected love lobster bisque tried many different kinds different places one watery could find lobster guess ok price would never buy brand lobster bisque \n",
            "Original summary: too \n",
            "Predicted summary:  great snack\n",
            "\n",
            "\n",
            "Review: went check found ridiculous \n",
            "Original summary: almost bought \n",
            "Predicted summary:  great product\n",
            "\n",
            "\n",
            "Review: difficult describe herbal type quick results takes really ok got ordered quickly \n",
            "Original summary: quick delivery \n",
            "Predicted summary:  great product\n",
            "\n",
            "\n",
            "Review: best thing look every morning makes day best tasting coffee ever \n",
            "Original summary: best coffee ever \n",
            "Predicted summary:  great\n",
            "\n",
            "\n",
            "Review: taste great healthier alternative favorite sea salt vinegar probably order flavors since favorite eat potato chips often variety pack great get try \n",
            "Original summary: very happy \n",
            "Predicted summary:  great snack\n",
            "\n",
            "\n",
            "Review: plan reordering definitely edible filling since added chicken \n",
            "Original summary: for it is okay \n",
            "Predicted summary:  great coffee\n",
            "\n",
            "\n",
            "Review: great tasting tea fact much better bags decaf irish breakfast tea drinker cannot find cups english breakfast cups tastes great \n",
            "Original summary: yum without the \n",
            "Predicted summary:  great coffee\n",
            "\n",
            "\n",
            "Review: chocolate treat great gift arrived right expected gave girlfriend surprise gift absolutely loved \n",
            "Original summary: great item \n",
            "Predicted summary:  great\n",
            "\n",
            "\n",
            "Review: tea good discovered visiting california moment got home searched local stores able find finally decided see amazon bought two boxes long make buy \n",
            "Original summary: tastes very good \n",
            "Predicted summary:  great\n",
            "\n",
            "\n",
            "Review: taste nothing like cocoa taste never touch trying swiss miss cocoa maybe better luck \n",
            "Original summary: taste and smells like \n",
            "Predicted summary:  great\n",
            "\n",
            "\n",
            "Review: use syrup tea coffee cut fruit ice cream buy creamer add much cheaper alternative pre flavored coffee creamer \n",
            "Original summary: to favorites \n",
            "Predicted summary:  great coffee\n",
            "\n",
            "\n",
            "Review: thin runny fake milk powder used add creaminess flavor better eating mug \n",
            "Original summary: not good \n",
            "Predicted summary:  great\n",
            "\n",
            "\n",
            "Review: creme brulee good homemade bother homemade get delicious box easier make \n",
            "Original summary: of the \n",
            "Predicted summary:  great coffee\n",
            "\n",
            "\n",
            "Review: hot sauce one favorites perfect balance tasty spicy smell flavors immediately open bottle mix garlic habanero spices put everything tend go one bottle week highly recommend anyone likes hot sauce \n",
            "Original summary: awesome sauce \n",
            "Predicted summary:  great\n",
            "\n",
            "\n",
            "Review: hit gas eat pack chews within minutes feel energy never go ride without oh yeah taste pretty good \n",
            "Original summary: honey make the \n",
            "Predicted summary:  great product\n",
            "\n",
            "\n",
            "Review: recently started eating vegetarian meals product organic solid get ton water like get store bought tofu happy quality fast delivery \n",
            "Original summary: great product \n",
            "Predicted summary:  great gluten free\n",
            "\n",
            "\n",
            "Review: right open bag get nose close smell know quality product instantly tastiest tea oolong orange great mix even tea drinker smell tea want try glad bought product favorite mine \n",
            "Original summary: smell it \n",
            "Predicted summary:  great product\n",
            "\n",
            "\n",
            "Review: able much crackers easy spread put definitely enjoyed friends \n",
            "Original summary: loved it it loved it \n",
            "Predicted summary:  great product\n",
            "\n",
            "\n",
            "Review: loves treats trick get seriously things make dog anything buy two bags \n",
            "Original summary: candy for dogs \n",
            "Predicted summary:  my dog loves them\n",
            "\n",
            "\n",
            "Review: looking mint green tea could carry mix want product perfect add little extra water taste looking mint green tea powder look \n",
            "Original summary: just as expected \n",
            "Predicted summary:  great coffee\n",
            "\n",
            "\n",
            "Review: heard great things wanted try taste turned lot better anticipated actually gonna order pack continue drinking time trust \n",
            "Original summary: better taste than expected \n",
            "Predicted summary:  great snack\n",
            "\n",
            "\n",
            "Review: salsa definitely one perfect blend pepper made perfect dip half time grown soooo hot small price pay jar perfect cream cheese dip across \n",
            "Original summary: salsa review \n",
            "Predicted summary:  great\n",
            "\n",
            "\n",
            "Review: crackers buy healthy good eat salad perfect lunch \n",
            "Original summary: love dr \n",
            "Predicted summary:  great\n",
            "\n",
            "\n",
            "Review: smell rather smokey sure dogs would like rather particular love ordered \n",
            "Original summary: dogs love them \n",
            "Predicted summary:  great dog food\n",
            "\n",
            "\n",
            "Review: good value money good hot cocoa excellent however get coffee instant \n",
            "Original summary: great value \n",
            "Predicted summary:  great\n",
            "\n",
            "\n",
            "Review: tried brand bread mix bread machine good must say family best made potato bread scratch bread machine right nice flavor great texture well worth price bought times amazon continue \n",
            "Original summary: my mill bread mix \n",
            "Predicted summary:  great\n",
            "\n",
            "\n",
            "Review: great mix mixed milk instead water follow directions \n",
            "Original summary: tasty great \n",
            "Predicted summary:  great\n",
            "\n",
            "\n",
            "Review: fantastic bread mix use bread machine make bowl hand made problems know people problems terrific amazon please keep stock please \n",
            "Original summary: excellent bread mix \n",
            "Predicted summary:  my loves this\n",
            "\n",
            "\n",
            "Review: loves rabbit nice high protein treat addition regular diet price reasonable compared local pet store often item stock \n",
            "Original summary: our loves this \n",
            "Predicted summary:  my loves this\n",
            "\n",
            "\n",
            "Review: party send product enjoying unable purchase product obviously certain products available happy help want thank quick response sure look order future thank \n",
            "Original summary: you \n",
            "Predicted summary:  great\n",
            "\n",
            "\n",
            "Review: purchased cups lids filters work exactly expected work perfectly lids cups used filters unfortunately cannot going looking future cups filters attached like regular prefilled good product though \n",
            "Original summary: cups and and my \n",
            "Predicted summary:  great coffee\n",
            "\n",
            "\n",
            "Review: simply fell love chips refused share friends experience lot cheese chips salty little greasy side cheddar kettle really changed mind thanks amazon great buy store anymore \n",
            "Original summary: excellent of taste and \n",
            "Predicted summary:  great snack\n",
            "\n",
            "\n",
            "Review: annie great line food cheese great kids like grown ups like \n",
            "Original summary: great cheese \n",
            "Predicted summary:  great product\n",
            "\n",
            "\n",
            "Review: excellent bold medium blend decaf coffee special evening dark enough without bitter perfect compliment light \n",
            "Original summary: smooth cafe coffee \n",
            "Predicted summary:  great coffee\n",
            "\n",
            "\n",
            "Review: two cats four dogs cats seemed like treat dogs turned one eats everything would touch tried left laying \n",
            "Original summary: do not like this one \n",
            "Predicted summary:  great dog food\n",
            "\n",
            "\n",
            "Review: wow smoked sticks incredibly salty could even eat half stick different people try problem terrible tastes like salt mouth avoid costs \n",
            "Original summary: way too salty \n",
            "Predicted summary:  great snack\n",
            "\n",
            "\n",
            "Review: like brownie mix usually use low fat recipe also add chocolate chips something else otherwise little bit dry still buy case \n",
            "Original summary: better some \n",
            "Predicted summary:  great\n",
            "\n",
            "\n",
            "Review: best bears sell work get hands flavors pop mouth \n",
            "Original summary: the best ever \n",
            "Predicted summary:  great\n",
            "\n",
            "\n",
            "Review: really glad find tofu amazon eat tofu daily basis one best definitely buying regular basis \n",
            "Original summary: great tofu \n",
            "Predicted summary:  great\n",
            "\n",
            "\n",
            "Review: coconut flavored either like actually surprised since big fan coconut liked coffee favorite nice occasion \n",
            "Original summary: did not anywhere it was coconut \n",
            "Predicted summary:  great\n",
            "\n",
            "\n",
            "Review: balanced smooth light coffee great first cup day \n",
            "Original summary: smooth and light breakfast coffee \n",
            "Predicted summary:  great coffee\n",
            "\n",
            "\n",
            "Review: bought chips reading good reviews disappointed taste nothing like expected bought flavor variety pack many flavors care worth trying going purchase future \n",
            "Original summary: not so great \n",
            "Predicted summary:  great chips\n",
            "\n",
            "\n",
            "Review: use audio works great home hooked super simple use gain nice \n",
            "Original summary: great little for \n",
            "Predicted summary:  great\n",
            "\n",
            "\n",
            "Review: great taste tea bags much green thank packaging bulk \n",
            "Original summary: much better than tea bags \n",
            "Predicted summary:  great coffee\n",
            "\n",
            "\n",
            "Review: ordered product dog loves one outside recieved one big melted ball thought would ship dry ice summer hot area dont order \n",
            "Original summary: do it \n",
            "Predicted summary:  great product\n",
            "\n",
            "\n",
            "Review: best chocolates ever tasted chocolates lover try \n",
            "Original summary: love it \n",
            "Predicted summary:  great\n",
            "\n",
            "\n",
            "Review: cereal difficult find stores appreciate able purchase amazon husband really likes looks forward every month seems like thing look forward little things count \n",
            "Original summary: cereal \n",
            "Predicted summary:  great snack\n",
            "\n",
            "\n",
            "Review: husband twizzlers addict bought many times amazon living cannot get country always fresh tasty packed well arrive timely manner \n",
            "Original summary: always fresh \n",
            "Predicted summary:  great product\n",
            "\n",
            "\n",
            "Review: go pamela like crazy fantastic pancakes also makes great chocolate chip cookies banana bread lb bag definately best way go value wise \n",
            "Original summary: best value \n",
            "Predicted summary:  great\n",
            "\n",
            "\n",
            "Review: could really taste bergamot tea slight orange peel taste since organic expected taste ok good regular earl grey brands organic superior either much higher price \n",
            "Original summary: not as good as \n",
            "Predicted summary:  great coffee\n",
            "\n",
            "\n",
            "Review: coffee smooth yet robust taste bad aftertaste wolfgang puck coffee rodeo drive blend count cups keurig brewers \n",
            "Original summary: wolfgang puck keurig cup coffee \n",
            "Predicted summary:  great coffee\n",
            "\n",
            "\n",
            "Review: hard grow grew cat loved found seeds work well yet still looking would buy better luck growing \n",
            "Original summary: good for \n",
            "Predicted summary:  great dog food\n",
            "\n",
            "\n",
            "Review: seems best brand tried others weak flavor one would truly recommend moms small children need hot chocolate grab enjoy \n",
            "Original summary: dark chocolate cocoa \n",
            "Predicted summary:  great coffee\n",
            "\n",
            "\n",
            "Review: really great snack baseball son enjoy taking go road trip hold us till find good restaurant \n",
            "Original summary: great flavor \n",
            "Predicted summary:  great\n",
            "\n",
            "\n",
            "Review: local grocer regular price expected fair market price placed order research extremely disappointed find live learn hope save someone else trouble make return \n",
            "Original summary: off \n",
            "Predicted summary:  great\n",
            "\n",
            "\n",
            "Review: purchased though local source four dollars pack sensitive msg delicious alternative salty snacks seasoning tasty thin seaweed crispy eat two three packs time calories per love \n",
            "Original summary: and \n",
            "Predicted summary:  great snack\n",
            "\n",
            "\n",
            "Review: healthy mixed terrier adores healthy breath smell teeth good shape products great healthy product \n",
            "Original summary: my dog loves these \n",
            "Predicted summary:  my loves them\n",
            "\n",
            "\n",
            "Review: local stopped carrying said could get product happy find amazon com \n",
            "Original summary: convenient way to get \n",
            "Predicted summary:  great product\n",
            "\n",
            "\n",
            "Review: flavor quality chili great ounce mostly liquid number servings listed serve unless add ingredients first reviewer purchasing \n",
            "Original summary: soup \n",
            "Predicted summary:  great\n",
            "\n",
            "\n",
            "Review: found crisps local walmart figured would give try yummy may never go back regular chips big chip fan anyway problem eat entire bag one sitting give crisps big thumbs \n",
            "Original summary: yummy \n",
            "Predicted summary:  great\n",
            "\n",
            "\n",
            "Review: ingredients good cat loves never away surprised son cats decided rate cat point view \n",
            "Original summary: this is the one for \n",
            "Predicted summary:  my loves them\n",
            "\n",
            "\n",
            "Review: product gluten free diet price amazon com makes great buy \n",
            "Original summary: gf bisquick \n",
            "Predicted summary:  gluten free bisquick\n",
            "\n",
            "\n",
            "Review: first time trying wolfgang puck coffee glad wonderful medium blend great time day would buy \n",
            "Original summary: wonderful coffee \n",
            "Predicted summary:  great coffee\n",
            "\n",
            "\n",
            "Review: love coffee aroma delicious flavor husband would typically cup coffee twice month cup several times week \n",
            "Original summary: great find \n",
            "Predicted summary:  great coffee\n",
            "\n",
            "\n",
            "Review: tried product personally dog loves well getting bit grey ever years ago \n",
            "Original summary: dog loves it \n",
            "Predicted summary:  great dog food\n",
            "\n",
            "\n",
            "Review: spent real kona coffee want kona blend sold hawaiian disappointing tasted nothing like kona everyday good \n",
            "Original summary: coffee review \n",
            "Predicted summary:  great coffee\n",
            "\n",
            "\n",
            "Review: dog many food allergies made usa treats free wheat corn egg dairy dog cannot get enough \n",
            "Original summary: my dog loves these healthy treats \n",
            "Predicted summary:  dog food\n",
            "\n",
            "\n",
            "Review: great product subtle flavors delicate dishes smokey hearty cooking great product chef loves flavor kitchen cool product \n",
            "Original summary: fantastic for the \n",
            "Predicted summary:  great product\n",
            "\n",
            "\n",
            "Review: easy use chocolate premium hot cocoa mix double chocolate ounce great taste makes feel good \n",
            "Original summary: sweet from hard work on \n",
            "Predicted summary:  great product\n",
            "\n",
            "\n",
            "Review: love coffee always mixed decaf regular get caffeine buy perfect amount enjoy flavor coffee vacuum packages make easy store use keeps coffee fresh use another container works well \n",
            "Original summary: love it \n",
            "Predicted summary:  great coffee\n",
            "\n",
            "\n",
            "Review: people watching weight nutrition chips excellent substitute regular chips plenty protein well amazon price much cheaper buying packs local grocery store \n",
            "Original summary: save money \n",
            "Predicted summary:  my loves it\n",
            "\n",
            "\n",
            "Review: taste good give lot pay meat high quality however expecting tin contain one medium sized rather small much like sardines packaged bit disappointing info could clear \n",
            "Original summary: pretty good \n",
            "Predicted summary:  great\n",
            "\n",
            "\n",
            "Review: purchased product us sale son seems like previous post mold always double check food stir serve seems like recommend chicken sweet potato dinner \n",
            "Original summary: son to like it \n",
            "Predicted summary:  great product\n",
            "\n",
            "\n",
            "Review: makes nasty loose poo dry food thing tried adult version puppy version gave adult dog puppy super soft \n",
            "Original summary: makes nasty \n",
            "Predicted summary:  great product\n",
            "\n",
            "\n",
            "Review: gourmet chocolate chip cookie best chocolate chip cookie found grocery store firm soft good amount flavorful chocolate chips makes nice snack dessert eaten years house \n",
            "Original summary: our favorite chocolate chip cookie \n",
            "Predicted summary:  great chips\n",
            "\n",
            "\n",
            "Review: put two chia seeds bowl vanilla almond milk let sit couple hours makes seeds eat \n",
            "Original summary: they are chia seeds \n",
            "Predicted summary:  my favorite\n",
            "\n",
            "\n",
            "Review: every time heated particular soup microwave container made popping sound popped tray fell spilled catch completely find eating noodles bottom left noodle end serving \n",
            "Original summary: at the of \n",
            "Predicted summary:  great\n",
            "\n",
            "\n",
            "Review: great coffee dark bitter little chocolaty reminds get better price caribou coffee store however \n",
            "Original summary: yum \n",
            "Predicted summary:  great coffee\n",
            "\n",
            "\n",
            "Review: given keurig wedding present along several variety packs far wolfgang puck jamaica crazy favorite definitely repeat flavor \n",
            "Original summary: our favorite cup yet \n",
            "Predicted summary:  great product\n",
            "\n",
            "\n",
            "Review: fond coffee several local stores another brand order line cannot get store however amazon price high jar local stores \n",
            "Original summary: coffee but amazon price is too high \n",
            "Predicted summary:  great coffee\n",
            "\n",
            "\n"
          ],
          "name": "stdout"
        }
      ]
    },
    {
      "cell_type": "code",
      "metadata": {
        "id": "IUzitaGBj3nl"
      },
      "source": [
        ""
      ],
      "execution_count": null,
      "outputs": []
    }
  ]
}