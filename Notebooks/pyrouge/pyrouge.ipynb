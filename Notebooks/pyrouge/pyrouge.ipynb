{
  "nbformat": 4,
  "nbformat_minor": 0,
  "metadata": {
    "colab": {
      "name": "pyrouge.ipynb",
      "provenance": [],
      "collapsed_sections": [],
      "toc_visible": true,
      "include_colab_link": true
    },
    "kernelspec": {
      "name": "python3",
      "display_name": "Python 3"
    }
  },
  "cells": [
    {
      "cell_type": "markdown",
      "metadata": {
        "id": "view-in-github",
        "colab_type": "text"
      },
      "source": [
        "<a href=\"https://colab.research.google.com/github/ACM-Research/NLP-Summarizer/blob/master/Notebooks/pyrouge/pyrouge.ipynb\" target=\"_parent\"><img src=\"https://colab.research.google.com/assets/colab-badge.svg\" alt=\"Open In Colab\"/></a>"
      ]
    },
    {
      "cell_type": "markdown",
      "metadata": {
        "id": "5B0v-vrMYs78"
      },
      "source": [
        "# Installation of pyrouge on Google Colab"
      ]
    },
    {
      "cell_type": "code",
      "metadata": {
        "id": "eyBxzK5ahCGx"
      },
      "source": [
        "# install missing dependency\n",
        "!apt install libxml-parser-perl"
      ],
      "execution_count": null,
      "outputs": []
    },
    {
      "cell_type": "code",
      "metadata": {
        "id": "rBumfJ--eO2T"
      },
      "source": [
        "!mkdir my_pyrouge2"
      ],
      "execution_count": null,
      "outputs": []
    },
    {
      "cell_type": "code",
      "metadata": {
        "id": "QWaUOm-ghKmG"
      },
      "source": [
        "%cd my_pyrouge2\n",
        "!git clone https://github.com/bheinzerling/pyrouge\n",
        "%cd pyrouge\n",
        "!python setup.py install"
      ],
      "execution_count": null,
      "outputs": []
    },
    {
      "cell_type": "code",
      "metadata": {
        "id": "5siITR9uYYZt"
      },
      "source": [
        "!git clone https://github.com/andersjo/pyrouge.git rouge"
      ],
      "execution_count": null,
      "outputs": []
    },
    {
      "cell_type": "code",
      "metadata": {
        "id": "1LbrUafQYqCY"
      },
      "source": [
        "# build db file and run test\n",
        "%%bash\n",
        "DIR=\"/content/my_pyrouge2/pyrouge/rouge/tools/ROUGE-1.5.5\"\n",
        "pyrouge_set_rouge_path $DIR\n",
        "cd $DIR/data\n",
        "mv WordNet-2.0.exc.db WordNet-2.0.exc.db.orig\n",
        "perl WordNet-2.0-Exceptions/buildExeptionDB.pl ./WordNet-2.0-Exceptions ./smart_common_words.txt ./WordNet-2.0.exc.db\n",
        "python -m pyrouge.test"
      ],
      "execution_count": null,
      "outputs": []
    },
    {
      "cell_type": "code",
      "metadata": {
        "id": "HpG_-yMASsap",
        "outputId": "2dd41ab7-6fec-4545-ec6d-9a97a6c5c2db",
        "colab": {
          "base_uri": "https://localhost:8080/",
          "height": 34
        }
      },
      "source": [
        "%cd /content/"
      ],
      "execution_count": null,
      "outputs": [
        {
          "output_type": "stream",
          "text": [
            "/content\n"
          ],
          "name": "stdout"
        }
      ]
    },
    {
      "cell_type": "code",
      "metadata": {
        "id": "WdWoqcZERa3_",
        "outputId": "f16a266a-97c4-4eb5-8e3c-c3d834a2ba22",
        "colab": {
          "base_uri": "https://localhost:8080/",
          "height": 768
        }
      },
      "source": [
        "from pyrouge import Rouge155\n",
        "import os\n",
        "\n",
        "r = Rouge155()\n",
        "\n",
        "r.system_filename_pattern = 'text.(\\d+).txt'\n",
        "r.model_filename_pattern = 'text.[A-Z].#ID#.txt'\n",
        "r.model_dir = 'model_summaries'\n",
        "r.system_dir = 'system_summaries'\n",
        "\n",
        "\n",
        "output = r.convert_and_evaluate()\n",
        "print(output)\n",
        "output_dict = r.output_to_dict(output)"
      ],
      "execution_count": 12,
      "outputs": [
        {
          "output_type": "stream",
          "text": [
            "2020-10-22 21:51:42,959 [MainThread  ] [INFO ]  Writing summaries.\n",
            "2020-10-22 21:51:42,961 [MainThread  ] [INFO ]  Processing summaries. Saving system files to /tmp/tmpzuchi5_r/system and model files to /tmp/tmpzuchi5_r/model.\n",
            "2020-10-22 21:51:42,963 [MainThread  ] [INFO ]  Processing files in system_summaries.\n",
            "2020-10-22 21:51:42,964 [MainThread  ] [INFO ]  Processing text.001.txt.\n",
            "2020-10-22 21:51:42,965 [MainThread  ] [INFO ]  Saved processed files to /tmp/tmpzuchi5_r/system.\n",
            "2020-10-22 21:51:42,966 [MainThread  ] [INFO ]  Processing files in model_summaries.\n",
            "2020-10-22 21:51:42,968 [MainThread  ] [INFO ]  Processing text.A.001.txt.\n",
            "2020-10-22 21:51:42,975 [MainThread  ] [INFO ]  Saved processed files to /tmp/tmpzuchi5_r/model.\n",
            "2020-10-22 21:51:42,977 [MainThread  ] [INFO ]  Written ROUGE configuration to /tmp/tmp7ivm5yb3/rouge_conf.xml\n",
            "2020-10-22 21:51:42,981 [MainThread  ] [INFO ]  Running ROUGE with command /content/my_pyrouge2/pyrouge/rouge/tools/ROUGE-1.5.5/ROUGE-1.5.5.pl -e /content/my_pyrouge2/pyrouge/rouge/tools/ROUGE-1.5.5/data -c 95 -2 -1 -U -r 1000 -n 4 -w 1.2 -a -m /tmp/tmp7ivm5yb3/rouge_conf.xml\n"
          ],
          "name": "stderr"
        },
        {
          "output_type": "stream",
          "text": [
            "---------------------------------------------\n",
            "1 ROUGE-1 Average_R: 1.00000 (95%-conf.int. 1.00000 - 1.00000)\n",
            "1 ROUGE-1 Average_P: 0.42857 (95%-conf.int. 0.42857 - 0.42857)\n",
            "1 ROUGE-1 Average_F: 0.60000 (95%-conf.int. 0.60000 - 0.60000)\n",
            "---------------------------------------------\n",
            "1 ROUGE-2 Average_R: 0.80000 (95%-conf.int. 0.80000 - 0.80000)\n",
            "1 ROUGE-2 Average_P: 0.30769 (95%-conf.int. 0.30769 - 0.30769)\n",
            "1 ROUGE-2 Average_F: 0.44444 (95%-conf.int. 0.44444 - 0.44444)\n",
            "---------------------------------------------\n",
            "1 ROUGE-3 Average_R: 0.50000 (95%-conf.int. 0.50000 - 0.50000)\n",
            "1 ROUGE-3 Average_P: 0.16667 (95%-conf.int. 0.16667 - 0.16667)\n",
            "1 ROUGE-3 Average_F: 0.25000 (95%-conf.int. 0.25000 - 0.25000)\n",
            "---------------------------------------------\n",
            "1 ROUGE-4 Average_R: 0.00000 (95%-conf.int. 0.00000 - 0.00000)\n",
            "1 ROUGE-4 Average_P: 0.00000 (95%-conf.int. 0.00000 - 0.00000)\n",
            "1 ROUGE-4 Average_F: 0.00000 (95%-conf.int. 0.00000 - 0.00000)\n",
            "---------------------------------------------\n",
            "1 ROUGE-L Average_R: 1.00000 (95%-conf.int. 1.00000 - 1.00000)\n",
            "1 ROUGE-L Average_P: 0.42857 (95%-conf.int. 0.42857 - 0.42857)\n",
            "1 ROUGE-L Average_F: 0.60000 (95%-conf.int. 0.60000 - 0.60000)\n",
            "---------------------------------------------\n",
            "1 ROUGE-W-1.2 Average_R: 0.69883 (95%-conf.int. 0.69883 - 0.69883)\n",
            "1 ROUGE-W-1.2 Average_P: 0.42857 (95%-conf.int. 0.42857 - 0.42857)\n",
            "1 ROUGE-W-1.2 Average_F: 0.53131 (95%-conf.int. 0.53131 - 0.53131)\n",
            "---------------------------------------------\n",
            "1 ROUGE-S* Average_R: 1.00000 (95%-conf.int. 1.00000 - 1.00000)\n",
            "1 ROUGE-S* Average_P: 0.16484 (95%-conf.int. 0.16484 - 0.16484)\n",
            "1 ROUGE-S* Average_F: 0.28303 (95%-conf.int. 0.28303 - 0.28303)\n",
            "---------------------------------------------\n",
            "1 ROUGE-SU* Average_R: 1.00000 (95%-conf.int. 1.00000 - 1.00000)\n",
            "1 ROUGE-SU* Average_P: 0.19231 (95%-conf.int. 0.19231 - 0.19231)\n",
            "1 ROUGE-SU* Average_F: 0.32258 (95%-conf.int. 0.32258 - 0.32258)\n",
            "\n"
          ],
          "name": "stdout"
        }
      ]
    }
  ]
}