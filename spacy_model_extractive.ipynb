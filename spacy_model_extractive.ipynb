{
  "nbformat": 4,
  "nbformat_minor": 0,
  "metadata": {
    "colab": {
      "name": "spacy_model_extractive.ipynb",
      "provenance": []
    },
    "kernelspec": {
      "name": "python3",
      "display_name": "Python 3"
    }
  },
  "cells": [
    {
      "cell_type": "code",
      "metadata": {
        "id": "ALf6GVTRyGnA"
      },
      "source": [
        "# all credit goes to https://github.com/Jcharis/Natural-Language-Processing-Tutorials/blob/master/NLP_with_SpaCy/Text%20Summarization%20In%20SpaCy.ipynb\n",
        "import spacy\n",
        "from spacy.lang.en.stop_words import STOP_WORDS\n",
        "from string import punctuation"
      ],
      "execution_count": null,
      "outputs": []
    },
    {
      "cell_type": "code",
      "metadata": {
        "id": "Oxb6Nv_I8Vbz"
      },
      "source": [
        "stopwords = list(STOP_WORDS)\n",
        "document1 =\"\"\"A flywheel is a mechanical device specifically designed to efficiently store rotational energy (kinetic energy), which is proportional to the square of its rotational speed and its mass. Flywheels resist changes in rotational speed by their moment of inertia and in order to change a flywheel's stored energy (without changing its mass) its rotational speed must be increased or decreased. Since flywheels act as mechanical energy storage devices, they are the kinetic-energy-storage analogue to electrical inductors, for example, which are a type of accumulator. Like other types of accumulators, flywheels smooth the ripple in power output, providing surges of high power output as required, absorbing surges of high power input (system-generated power) as required, and in this way act as low-pass filters on the mechanical velocity (angular, or otherwise) of the system.\"\"\""
      ],
      "execution_count": null,
      "outputs": []
    },
    {
      "cell_type": "code",
      "metadata": {
        "id": "p_bSNA9h8c_U"
      },
      "source": [
        "nlp = spacy.load('en')\n",
        "docx = nlp(document1)"
      ],
      "execution_count": null,
      "outputs": []
    },
    {
      "cell_type": "code",
      "metadata": {
        "id": "5VcXS4yS8iTF"
      },
      "source": [
        "mytokens = [token.text for token in docx]"
      ],
      "execution_count": null,
      "outputs": []
    },
    {
      "cell_type": "code",
      "metadata": {
        "id": "ImkFrMq280VN"
      },
      "source": [
        "word_frequencies = {}\n",
        "for word in docx:\n",
        "    if word.text not in stopwords:\n",
        "            if word.text not in word_frequencies.keys():\n",
        "                word_frequencies[word.text] = 1\n",
        "            else:\n",
        "                word_frequencies[word.text] += 1"
      ],
      "execution_count": null,
      "outputs": []
    },
    {
      "cell_type": "code",
      "metadata": {
        "id": "P5PHlajQ83b4",
        "outputId": "6fe7f5f9-efc5-4c6e-c5b4-1f1ce70aa02d",
        "colab": {
          "base_uri": "https://localhost:8080/",
          "height": 1000
        }
      },
      "source": [
        "word_frequencies"
      ],
      "execution_count": null,
      "outputs": [
        {
          "output_type": "execute_result",
          "data": {
            "text/plain": [
              "{'(': 4,\n",
              " ')': 4,\n",
              " ',': 9,\n",
              " '-': 4,\n",
              " '.': 4,\n",
              " 'A': 1,\n",
              " 'Flywheels': 1,\n",
              " 'Like': 1,\n",
              " 'Since': 1,\n",
              " 'absorbing': 1,\n",
              " 'accumulator': 1,\n",
              " 'accumulators': 1,\n",
              " 'act': 2,\n",
              " 'analogue': 1,\n",
              " 'angular': 1,\n",
              " 'change': 1,\n",
              " 'changes': 1,\n",
              " 'changing': 1,\n",
              " 'decreased': 1,\n",
              " 'designed': 1,\n",
              " 'device': 1,\n",
              " 'devices': 1,\n",
              " 'efficiently': 1,\n",
              " 'electrical': 1,\n",
              " 'energy': 5,\n",
              " 'example': 1,\n",
              " 'filters': 1,\n",
              " 'flywheel': 2,\n",
              " 'flywheels': 2,\n",
              " 'generated': 1,\n",
              " 'high': 2,\n",
              " 'increased': 1,\n",
              " 'inductors': 1,\n",
              " 'inertia': 1,\n",
              " 'input': 1,\n",
              " 'kinetic': 2,\n",
              " 'low': 1,\n",
              " 'mass': 2,\n",
              " 'mechanical': 3,\n",
              " 'moment': 1,\n",
              " 'order': 1,\n",
              " 'output': 2,\n",
              " 'pass': 1,\n",
              " 'power': 4,\n",
              " 'proportional': 1,\n",
              " 'providing': 1,\n",
              " 'required': 2,\n",
              " 'resist': 1,\n",
              " 'ripple': 1,\n",
              " 'rotational': 4,\n",
              " 'smooth': 1,\n",
              " 'specifically': 1,\n",
              " 'speed': 3,\n",
              " 'square': 1,\n",
              " 'storage': 2,\n",
              " 'store': 1,\n",
              " 'stored': 1,\n",
              " 'surges': 2,\n",
              " 'system': 2,\n",
              " 'type': 1,\n",
              " 'types': 1,\n",
              " 'velocity': 1,\n",
              " 'way': 1}"
            ]
          },
          "metadata": {
            "tags": []
          },
          "execution_count": 34
        }
      ]
    },
    {
      "cell_type": "code",
      "metadata": {
        "id": "UhCDhDYd87gv"
      },
      "source": [
        "maximum_frequency = max(word_frequencies.values())\n",
        "for word in word_frequencies.keys():  \n",
        "        word_frequencies[word] = (word_frequencies[word]/maximum_frequency)"
      ],
      "execution_count": null,
      "outputs": []
    },
    {
      "cell_type": "code",
      "metadata": {
        "id": "j_a_g1vlMGEk",
        "outputId": "46bd1a44-7c80-4e5b-b62c-3820a26a60a7",
        "colab": {
          "base_uri": "https://localhost:8080/",
          "height": 1000
        }
      },
      "source": [
        "word_frequencies"
      ],
      "execution_count": null,
      "outputs": [
        {
          "output_type": "execute_result",
          "data": {
            "text/plain": [
              "{'(': 0.4444444444444444,\n",
              " ')': 0.4444444444444444,\n",
              " ',': 1.0,\n",
              " '-': 0.4444444444444444,\n",
              " '.': 0.4444444444444444,\n",
              " 'A': 0.1111111111111111,\n",
              " 'Flywheels': 0.1111111111111111,\n",
              " 'Like': 0.1111111111111111,\n",
              " 'Since': 0.1111111111111111,\n",
              " 'absorbing': 0.1111111111111111,\n",
              " 'accumulator': 0.1111111111111111,\n",
              " 'accumulators': 0.1111111111111111,\n",
              " 'act': 0.2222222222222222,\n",
              " 'analogue': 0.1111111111111111,\n",
              " 'angular': 0.1111111111111111,\n",
              " 'change': 0.1111111111111111,\n",
              " 'changes': 0.1111111111111111,\n",
              " 'changing': 0.1111111111111111,\n",
              " 'decreased': 0.1111111111111111,\n",
              " 'designed': 0.1111111111111111,\n",
              " 'device': 0.1111111111111111,\n",
              " 'devices': 0.1111111111111111,\n",
              " 'efficiently': 0.1111111111111111,\n",
              " 'electrical': 0.1111111111111111,\n",
              " 'energy': 0.5555555555555556,\n",
              " 'example': 0.1111111111111111,\n",
              " 'filters': 0.1111111111111111,\n",
              " 'flywheel': 0.2222222222222222,\n",
              " 'flywheels': 0.2222222222222222,\n",
              " 'generated': 0.1111111111111111,\n",
              " 'high': 0.2222222222222222,\n",
              " 'increased': 0.1111111111111111,\n",
              " 'inductors': 0.1111111111111111,\n",
              " 'inertia': 0.1111111111111111,\n",
              " 'input': 0.1111111111111111,\n",
              " 'kinetic': 0.2222222222222222,\n",
              " 'low': 0.1111111111111111,\n",
              " 'mass': 0.2222222222222222,\n",
              " 'mechanical': 0.3333333333333333,\n",
              " 'moment': 0.1111111111111111,\n",
              " 'order': 0.1111111111111111,\n",
              " 'output': 0.2222222222222222,\n",
              " 'pass': 0.1111111111111111,\n",
              " 'power': 0.4444444444444444,\n",
              " 'proportional': 0.1111111111111111,\n",
              " 'providing': 0.1111111111111111,\n",
              " 'required': 0.2222222222222222,\n",
              " 'resist': 0.1111111111111111,\n",
              " 'ripple': 0.1111111111111111,\n",
              " 'rotational': 0.4444444444444444,\n",
              " 'smooth': 0.1111111111111111,\n",
              " 'specifically': 0.1111111111111111,\n",
              " 'speed': 0.3333333333333333,\n",
              " 'square': 0.1111111111111111,\n",
              " 'storage': 0.2222222222222222,\n",
              " 'store': 0.1111111111111111,\n",
              " 'stored': 0.1111111111111111,\n",
              " 'surges': 0.2222222222222222,\n",
              " 'system': 0.2222222222222222,\n",
              " 'type': 0.1111111111111111,\n",
              " 'types': 0.1111111111111111,\n",
              " 'velocity': 0.1111111111111111,\n",
              " 'way': 0.1111111111111111}"
            ]
          },
          "metadata": {
            "tags": []
          },
          "execution_count": 36
        }
      ]
    },
    {
      "cell_type": "code",
      "metadata": {
        "id": "yhssQqHJMJwz"
      },
      "source": [
        "sentence_list = [ sentence for sentence in docx.sents ]"
      ],
      "execution_count": null,
      "outputs": []
    },
    {
      "cell_type": "code",
      "metadata": {
        "id": "DmIgmy77MMCn",
        "outputId": "432b7664-ecb1-49f9-9495-89ea245ca15b",
        "colab": {
          "base_uri": "https://localhost:8080/",
          "height": 1000
        }
      },
      "source": [
        "[w.text.lower() for t in sentence_list for w in t ]"
      ],
      "execution_count": null,
      "outputs": [
        {
          "output_type": "execute_result",
          "data": {
            "text/plain": [
              "['a',\n",
              " 'flywheel',\n",
              " 'is',\n",
              " 'a',\n",
              " 'mechanical',\n",
              " 'device',\n",
              " 'specifically',\n",
              " 'designed',\n",
              " 'to',\n",
              " 'efficiently',\n",
              " 'store',\n",
              " 'rotational',\n",
              " 'energy',\n",
              " '(',\n",
              " 'kinetic',\n",
              " 'energy',\n",
              " ')',\n",
              " ',',\n",
              " 'which',\n",
              " 'is',\n",
              " 'proportional',\n",
              " 'to',\n",
              " 'the',\n",
              " 'square',\n",
              " 'of',\n",
              " 'its',\n",
              " 'rotational',\n",
              " 'speed',\n",
              " 'and',\n",
              " 'its',\n",
              " 'mass',\n",
              " '.',\n",
              " 'flywheels',\n",
              " 'resist',\n",
              " 'changes',\n",
              " 'in',\n",
              " 'rotational',\n",
              " 'speed',\n",
              " 'by',\n",
              " 'their',\n",
              " 'moment',\n",
              " 'of',\n",
              " 'inertia',\n",
              " 'and',\n",
              " 'in',\n",
              " 'order',\n",
              " 'to',\n",
              " 'change',\n",
              " 'a',\n",
              " 'flywheel',\n",
              " \"'s\",\n",
              " 'stored',\n",
              " 'energy',\n",
              " '(',\n",
              " 'without',\n",
              " 'changing',\n",
              " 'its',\n",
              " 'mass',\n",
              " ')',\n",
              " 'its',\n",
              " 'rotational',\n",
              " 'speed',\n",
              " 'must',\n",
              " 'be',\n",
              " 'increased',\n",
              " 'or',\n",
              " 'decreased',\n",
              " '.',\n",
              " 'since',\n",
              " 'flywheels',\n",
              " 'act',\n",
              " 'as',\n",
              " 'mechanical',\n",
              " 'energy',\n",
              " 'storage',\n",
              " 'devices',\n",
              " ',',\n",
              " 'they',\n",
              " 'are',\n",
              " 'the',\n",
              " 'kinetic',\n",
              " '-',\n",
              " 'energy',\n",
              " '-',\n",
              " 'storage',\n",
              " 'analogue',\n",
              " 'to',\n",
              " 'electrical',\n",
              " 'inductors',\n",
              " ',',\n",
              " 'for',\n",
              " 'example',\n",
              " ',',\n",
              " 'which',\n",
              " 'are',\n",
              " 'a',\n",
              " 'type',\n",
              " 'of',\n",
              " 'accumulator',\n",
              " '.',\n",
              " 'like',\n",
              " 'other',\n",
              " 'types',\n",
              " 'of',\n",
              " 'accumulators',\n",
              " ',',\n",
              " 'flywheels',\n",
              " 'smooth',\n",
              " 'the',\n",
              " 'ripple',\n",
              " 'in',\n",
              " 'power',\n",
              " 'output',\n",
              " ',',\n",
              " 'providing',\n",
              " 'surges',\n",
              " 'of',\n",
              " 'high',\n",
              " 'power',\n",
              " 'output',\n",
              " 'as',\n",
              " 'required',\n",
              " ',',\n",
              " 'absorbing',\n",
              " 'surges',\n",
              " 'of',\n",
              " 'high',\n",
              " 'power',\n",
              " 'input',\n",
              " '(',\n",
              " 'system',\n",
              " '-',\n",
              " 'generated',\n",
              " 'power',\n",
              " ')',\n",
              " 'as',\n",
              " 'required',\n",
              " ',',\n",
              " 'and',\n",
              " 'in',\n",
              " 'this',\n",
              " 'way',\n",
              " 'act',\n",
              " 'as',\n",
              " 'low',\n",
              " '-',\n",
              " 'pass',\n",
              " 'filters',\n",
              " 'on',\n",
              " 'the',\n",
              " 'mechanical',\n",
              " 'velocity',\n",
              " '(',\n",
              " 'angular',\n",
              " ',',\n",
              " 'or',\n",
              " 'otherwise',\n",
              " ')',\n",
              " 'of',\n",
              " 'the',\n",
              " 'system',\n",
              " '.']"
            ]
          },
          "metadata": {
            "tags": []
          },
          "execution_count": 38
        }
      ]
    },
    {
      "cell_type": "code",
      "metadata": {
        "id": "j4UFgl4yMP4H"
      },
      "source": [
        "sentence_scores = {}  \n",
        "for sent in sentence_list:  \n",
        "        for word in sent:\n",
        "            if word.text.lower() in word_frequencies.keys():\n",
        "                if len(sent.text.split(' ')) < 30:\n",
        "                    if sent not in sentence_scores.keys():\n",
        "                        sentence_scores[sent] = word_frequencies[word.text.lower()]\n",
        "                    else:\n",
        "                        sentence_scores[sent] += word_frequencies[word.text.lower()]"
      ],
      "execution_count": null,
      "outputs": []
    },
    {
      "cell_type": "code",
      "metadata": {
        "id": "35BPc4fJMtRK"
      },
      "source": [
        "lowered_sentence_list = [w.text.lower() for t in sentence_list for w in t ]\n",
        "lowered_sentence_scores = {}  \n",
        "for sent in lowered_sentence_list:  \n",
        "        for word in sent:\n",
        "            if word in word_frequencies.keys():\n",
        "                if len(sent.split(' ')) < 30:\n",
        "                    if sent not in sentence_scores.keys():\n",
        "                        lowered_sentence_scores[sent] = word_frequencies[word]\n",
        "                    else:\n",
        "                        lowered_sentence_scores[sent] += word_frequencies[word]"
      ],
      "execution_count": null,
      "outputs": []
    },
    {
      "cell_type": "code",
      "metadata": {
        "id": "TLBlyWokM2Gz",
        "outputId": "d63af823-4b70-4622-e0e7-496e3fd77441",
        "colab": {
          "base_uri": "https://localhost:8080/",
          "height": 105
        }
      },
      "source": [
        "sentence_scores"
      ],
      "execution_count": null,
      "outputs": [
        {
          "output_type": "execute_result",
          "data": {
            "text/plain": [
              "{A flywheel is a mechanical device specifically designed to efficiently store rotational energy (kinetic energy), which is proportional to the square of its rotational speed and its mass.: 6.444444444444445,\n",
              " Flywheels resist changes in rotational speed by their moment of inertia and in order to change a flywheel's stored energy (without changing its mass): 3.7777777777777777,\n",
              " its rotational speed must be increased or decreased.: 1.4444444444444444,\n",
              " Since flywheels act as mechanical energy storage devices, they are the kinetic-energy-storage analogue to electrical inductors, for example, which are a type of accumulator.: 7.666666666666664}"
            ]
          },
          "metadata": {
            "tags": []
          },
          "execution_count": 41
        }
      ]
    },
    {
      "cell_type": "code",
      "metadata": {
        "id": "hUoDovDwM9js",
        "outputId": "4868d6d7-1a26-432a-e8f7-4515d825e210",
        "colab": {
          "base_uri": "https://localhost:8080/",
          "height": 105
        }
      },
      "source": [
        "from heapq import nlargest\n",
        "summarized_sentences = nlargest(7, sentence_scores, key=sentence_scores.get)\n",
        "summarized_sentences"
      ],
      "execution_count": null,
      "outputs": [
        {
          "output_type": "execute_result",
          "data": {
            "text/plain": [
              "[Since flywheels act as mechanical energy storage devices, they are the kinetic-energy-storage analogue to electrical inductors, for example, which are a type of accumulator.,\n",
              " A flywheel is a mechanical device specifically designed to efficiently store rotational energy (kinetic energy), which is proportional to the square of its rotational speed and its mass.,\n",
              " Flywheels resist changes in rotational speed by their moment of inertia and in order to change a flywheel's stored energy (without changing its mass),\n",
              " its rotational speed must be increased or decreased.]"
            ]
          },
          "metadata": {
            "tags": []
          },
          "execution_count": 42
        }
      ]
    },
    {
      "cell_type": "code",
      "metadata": {
        "id": "zbAgbYcjNDEp",
        "outputId": "2cd6b85d-45f4-4a4a-96de-1f71e7d5646c",
        "colab": {
          "base_uri": "https://localhost:8080/",
          "height": 105
        }
      },
      "source": [
        "for w in summarized_sentences:\n",
        "    print(w.text)"
      ],
      "execution_count": null,
      "outputs": [
        {
          "output_type": "stream",
          "text": [
            "Since flywheels act as mechanical energy storage devices, they are the kinetic-energy-storage analogue to electrical inductors, for example, which are a type of accumulator.\n",
            "A flywheel is a mechanical device specifically designed to efficiently store rotational energy (kinetic energy), which is proportional to the square of its rotational speed and its mass.\n",
            "Flywheels resist changes in rotational speed by their moment of inertia and in order to change a flywheel's stored energy (without changing its mass)\n",
            "its rotational speed must be increased or decreased.\n"
          ],
          "name": "stdout"
        }
      ]
    },
    {
      "cell_type": "code",
      "metadata": {
        "id": "RFNyS1EONF0J",
        "outputId": "d1c06db6-d9e1-4c43-e543-9e5814da9a77",
        "colab": {
          "base_uri": "https://localhost:8080/",
          "height": 86
        }
      },
      "source": [
        "final_sentences = [ w.text for w in summarized_sentences ]\n",
        "summary = ' '.join(final_sentences)\n",
        "summary"
      ],
      "execution_count": null,
      "outputs": [
        {
          "output_type": "execute_result",
          "data": {
            "application/vnd.google.colaboratory.intrinsic+json": {
              "type": "string"
            },
            "text/plain": [
              "\"Since flywheels act as mechanical energy storage devices, they are the kinetic-energy-storage analogue to electrical inductors, for example, which are a type of accumulator. A flywheel is a mechanical device specifically designed to efficiently store rotational energy (kinetic energy), which is proportional to the square of its rotational speed and its mass. Flywheels resist changes in rotational speed by their moment of inertia and in order to change a flywheel's stored energy (without changing its mass) its rotational speed must be increased or decreased.\""
            ]
          },
          "metadata": {
            "tags": []
          },
          "execution_count": 44
        }
      ]
    },
    {
      "cell_type": "code",
      "metadata": {
        "id": "qxp_Cgs5NNkW",
        "outputId": "d1042326-bb47-4b75-8684-975df0ae516b",
        "colab": {
          "base_uri": "https://localhost:8080/",
          "height": 34
        }
      },
      "source": [
        "len(summary)"
      ],
      "execution_count": null,
      "outputs": [
        {
          "output_type": "execute_result",
          "data": {
            "text/plain": [
              "563"
            ]
          },
          "metadata": {
            "tags": []
          },
          "execution_count": 45
        }
      ]
    },
    {
      "cell_type": "code",
      "metadata": {
        "id": "hHa6FOp1NQq2",
        "outputId": "fd248a3e-a025-430c-a3c9-359a01d07ead",
        "colab": {
          "base_uri": "https://localhost:8080/",
          "height": 34
        }
      },
      "source": [
        "len(document1)"
      ],
      "execution_count": null,
      "outputs": [
        {
          "output_type": "execute_result",
          "data": {
            "text/plain": [
              "874"
            ]
          },
          "metadata": {
            "tags": []
          },
          "execution_count": 46
        }
      ]
    }
  ]
}